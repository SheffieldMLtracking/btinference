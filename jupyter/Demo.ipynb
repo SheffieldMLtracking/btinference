{
 "cells": [
  {
   "cell_type": "code",
   "execution_count": 1,
   "id": "8876014d",
   "metadata": {},
   "outputs": [
    {
     "name": "stderr",
     "output_type": "stream",
     "text": [
      "2024-07-01 12:31:09.461005: I tensorflow/tsl/cuda/cudart_stub.cc:28] Could not find cuda drivers on your machine, GPU will not be used.\n",
      "2024-07-01 12:31:09.500057: I tensorflow/tsl/cuda/cudart_stub.cc:28] Could not find cuda drivers on your machine, GPU will not be used.\n",
      "2024-07-01 12:31:09.500633: I tensorflow/core/platform/cpu_feature_guard.cc:182] This TensorFlow binary is optimized to use available CPU instructions in performance-critical operations.\n",
      "To enable the following instructions: AVX2 FMA, in other operations, rebuild TensorFlow with the appropriate compiler flags.\n",
      "2024-07-01 12:31:10.185203: W tensorflow/compiler/tf2tensorrt/utils/py_utils.cc:38] TF-TRT Warning: Could not find TensorRT\n"
     ]
    }
   ],
   "source": [
    "from alignment import Camera\n",
    "import alignment.helper\n",
    "import pickle\n",
    "import json\n",
    "from glob import glob\n",
    "import re\n",
    "from pathinference import PathInference\n",
    "from pathinference.helper import confidence_ellipse\n",
    "from pathinference.kernel import kernelwrap, EQ\n",
    "import numpy as np"
   ]
  },
  {
   "cell_type": "code",
   "execution_count": 2,
   "id": "aaa5baf8",
   "metadata": {},
   "outputs": [],
   "source": [
    "datapath = '/home/mike/Documents/Research/rsync_bee/test/beephotos/2024-06-20/CalibTest200624/conetag2/'"
   ]
  },
  {
   "cell_type": "code",
   "execution_count": 3,
   "id": "135aa527",
   "metadata": {},
   "outputs": [],
   "source": [
    "if datapath[-1]=='/': datapath = datapath[:-1]\n",
    "calset = 'cal'\n",
    "sourcename = 'btalignment'\n",
    "tagsource = 'btviewer'\n",
    "taglabel = ''\n",
    "calsetpath = '/'.join(datapath.split('/')[:-1])+'/'+calset\n",
    "keepcolour = False"
   ]
  },
  {
   "cell_type": "code",
   "execution_count": 4,
   "id": "89c3bcc0",
   "metadata": {},
   "outputs": [],
   "source": [
    "calsetpaths = glob(calsetpath+'/*/*')"
   ]
  },
  {
   "cell_type": "code",
   "execution_count": 5,
   "id": "174c9e22",
   "metadata": {},
   "outputs": [
    {
     "name": "stdout",
     "output_type": "stream",
     "text": [
      "Removing colour cameras from set\n"
     ]
    }
   ],
   "source": [
    "if not keepcolour:\n",
    "    allcalimgfiles = [sorted(glob(p+'/*.np')) for p in calsetpaths]\n",
    "    print(\"Removing colour cameras from set\")\n",
    "    greyscale = [alignment.helper.guesscamtypegetscore(imgfiles[0])<0.02 for imgfiles in allcalimgfiles]\n",
    "    calsetpaths = [p for p,g in zip(calsetpaths,greyscale) if g]\n",
    "    "
   ]
  },
  {
   "cell_type": "code",
   "execution_count": 6,
   "id": "cb468e70",
   "metadata": {},
   "outputs": [],
   "source": [
    "#create the camera objects from the alignment data...\n",
    "cameras = {}\n",
    "for path in calsetpaths:\n",
    "    jsonfile = path+'/'+sourcename+'/alignment.json'\n",
    "    camsetid = '/'.join(path.split('/')[-2:])\n",
    "    jsondata = json.load(open(jsonfile,'r'))\n",
    "    cameras[camsetid] = Camera(loc=jsondata['loc'], orientation=jsondata['orientation'], hfov=jsondata['hfov'], vfov=jsondata['vfov'], res=jsondata['res'])"
   ]
  },
  {
   "cell_type": "code",
   "execution_count": 7,
   "id": "f6800785",
   "metadata": {},
   "outputs": [
    {
     "name": "stdout",
     "output_type": "stream",
     "text": [
      "Removing colour cameras from set\n"
     ]
    }
   ],
   "source": [
    "#load the tag locations\n",
    "tagsetpaths = glob(datapath+'/*/*')\n",
    "tagsetpaths\n",
    "if not keepcolour:\n",
    "    alltagimgfiles = [sorted(glob(p+'/*.np')) for p in tagsetpaths]\n",
    "    print(\"Removing colour cameras from set\")\n",
    "    greyscale = [alignment.helper.guesscamtypegetscore(imgfiles[0])<0.02 for imgfiles in alltagimgfiles]\n",
    "    tagsetpaths = [p for p,g in zip(tagsetpaths,greyscale) if g]"
   ]
  },
  {
   "cell_type": "code",
   "execution_count": 8,
   "id": "b2746b21",
   "metadata": {},
   "outputs": [],
   "source": [
    "def totalsecsandms(st):\n",
    "    time_hms = [int(s) for s in re.findall('([0-9]{1,2})[:\\+]([0-9]{2})[:\\+]([0-9]{2}).([0-9]{6})',st)[0]]\n",
    "    return time_hms[0]*3600 + time_hms[1]*60 + time_hms[2]*1 + time_hms[3]/1e6\n"
   ]
  },
  {
   "cell_type": "code",
   "execution_count": null,
   "id": "b32c7f6e",
   "metadata": {},
   "outputs": [],
   "source": []
  },
  {
   "cell_type": "code",
   "execution_count": 27,
   "id": "3af3dd56",
   "metadata": {},
   "outputs": [],
   "source": [
    "obstimes = []\n",
    "observations = []\n",
    "\n",
    "for path in tagsetpaths:\n",
    "    camsetid = '/'.join(path.split('/')[-2:])\n",
    "    tagsourcefiles = glob(path+'/'+tagsource+'/*.json')\n",
    "    #camsetid = '/'.join(path.split('/')[-2:])\n",
    "    c = cameras[camsetid]\n",
    "    for fn in tagsourcefiles:\n",
    "        jsondata = json.load(open(fn,'r'))\n",
    "        pixelcoord = np.array([jsondata[0]['x'],jsondata[0]['y']]).astype(float)\n",
    "        vect = c.get_pixel_local_vector(pixelcoord)\n",
    "        obstimes.append(totalsecsandms(fn))\n",
    "        observations.append(np.r_[c.loc,vect])        \n",
    "    #cameras[camsetid] = Camera(loc=jsondata['loc'], orientation=jsondata['orientation'], hfov=jsondata['hfov'], vfov=jsondata['vfov'], res=jsondata['res'])\n",
    "observations = np.array(observations)\n",
    "obstimes = np.array(obstimes)"
   ]
  },
  {
   "cell_type": "code",
   "execution_count": 28,
   "id": "f4d91e33",
   "metadata": {},
   "outputs": [
    {
     "data": {
      "text/plain": [
       "(array([8., 7., 8., 9., 8., 7., 9., 6., 5., 5., 5., 4., 4., 4., 2., 2., 2.,\n",
       "        0., 0., 3.]),\n",
       " array([52177.986293  , 52179.13975365, 52180.2932143 , 52181.44667495,\n",
       "        52182.6001356 , 52183.75359625, 52184.9070569 , 52186.06051755,\n",
       "        52187.2139782 , 52188.36743885, 52189.5208995 , 52190.67436015,\n",
       "        52191.8278208 , 52192.98128145, 52194.1347421 , 52195.28820275,\n",
       "        52196.4416634 , 52197.59512405, 52198.7485847 , 52199.90204535,\n",
       "        52201.055506  ]),\n",
       " <BarContainer object of 20 artists>)"
      ]
     },
     "execution_count": 28,
     "metadata": {},
     "output_type": "execute_result"
    },
    {
     "data": {
      "image/png": "[encoded data removed]",
      "text/plain": [
       "<Figure size 640x480 with 1 Axes>"
      ]
     },
     "metadata": {},
     "output_type": "display_data"
    }
   ],
   "source": [
    "plt.hist(obstimes,20)"
   ]
  },
  {
   "cell_type": "code",
   "execution_count": 104,
   "id": "7b755966",
   "metadata": {},
   "outputs": [
    {
     "data": {
      "text/plain": [
       "array([15.531445  , 11.971746  ,  8.964423  ,  6.4313974 ,  4.430159  ,\n",
       "        2.8714945 ,  1.7518322 ,  0.98117644,  0.5204551 ,  0.3163458 ,\n",
       "        0.27000475,  0.26347372,  0.2536666 ,  0.23355159,  0.2137754 ,\n",
       "        0.18646365,  0.17135319,  0.15952979,  0.15364897,  0.1500564 ,\n",
       "        0.14828573,  0.14480856,  0.13946566,  0.1385518 ,  0.14436917,\n",
       "        0.15157554,  0.14926237,  0.1545908 ,  0.15714033,  0.15938343,\n",
       "        0.15385991,  0.15443072,  0.15681984,  0.15659533,  0.16157109,\n",
       "        0.1656563 ,  0.17393334,  0.17407495,  0.17972684,  0.17883378,\n",
       "        0.17948128,  0.18813676,  0.19651689,  0.19961277,  0.20812249,\n",
       "        0.21023124,  0.21649224,  0.220382  ,  0.22660461,  0.23248577,\n",
       "        0.2377045 ,  0.24408968,  0.24487944,  0.2420028 ,  0.23756908,\n",
       "        0.23649016,  0.23488055,  0.23830569,  0.24283409,  0.2537362 ,\n",
       "        0.2700741 ,  0.3074098 ,  0.3697619 ,  0.48214033,  0.6326765 ,\n",
       "        0.82114166,  1.0373585 ,  1.2741439 ,  1.5177758 ,  1.7555008 ,\n",
       "        1.9890133 ,  2.2076433 ,  2.4205344 ,  2.6335385 ,  2.8522542 ,\n",
       "        3.0941591 ,  3.3584208 ,  3.653939  ,  3.9726808 ,  4.299609  ,\n",
       "        4.632645  ,  4.952082  ,  5.261415  ,  5.55563   ,  5.8568273 ,\n",
       "        6.189448  ,  6.58889   ,  7.117951  ,  7.816582  ,  8.754207  ,\n",
       "        9.964102  , 11.450487  , 13.273315  , 15.392317  , 17.866909  ,\n",
       "       20.626814  , 23.738455  , 27.143759  , 30.762241  , 34.658066  ],\n",
       "      dtype=float32)"
      ]
     },
     "execution_count": 104,
     "metadata": {},
     "output_type": "execute_result"
    }
   ],
   "source": [
    "stds"
   ]
  },
  {
   "cell_type": "code",
   "execution_count": 116,
   "id": "0b1556c6",
   "metadata": {},
   "outputs": [
    {
     "data": {
      "text/plain": [
       "<tf.Tensor: shape=(3,), dtype=float32, numpy=array([1.9178009 , 0.72217757, 0.2511636 ], dtype=float32)>"
      ]
     },
     "execution_count": 116,
     "metadata": {},
     "output_type": "execute_result"
    }
   ],
   "source": []
  },
  {
   "cell_type": "code",
   "execution_count": 133,
   "id": "f5d14288",
   "metadata": {},
   "outputs": [
    {
     "name": "stdout",
     "output_type": "stream",
     "text": [
      "tf.Tensor([ 3.4312482  -0.07841293], shape=(2,), dtype=float32)\n",
      "tf.Tensor([ 3.4312482  -0.07841293], shape=(2,), dtype=float32)\n",
      "tf.Tensor([ 3.4542441  -0.10371239], shape=(2,), dtype=float32)\n",
      "tf.Tensor([ 3.4647229  -0.11721515], shape=(2,), dtype=float32)\n",
      "tf.Tensor([ 3.4835672  -0.14390033], shape=(2,), dtype=float32)\n",
      "tf.Tensor([ 3.498331   -0.17054676], shape=(2,), dtype=float32)\n",
      "tf.Tensor([ 3.5098653  -0.20048542], shape=(2,), dtype=float32)\n",
      "tf.Tensor([ 3.5175948  -0.23071325], shape=(2,), dtype=float32)\n",
      "tf.Tensor([ 3.520299   -0.24617594], shape=(2,), dtype=float32)\n",
      "tf.Tensor([ 3.5233     -0.27762514], shape=(2,), dtype=float32)\n",
      "tf.Tensor([ 3.5234237 -0.3101018], shape=(2,), dtype=float32)\n",
      "tf.Tensor([ 3.521402   -0.34436148], shape=(2,), dtype=float32)\n",
      "tf.Tensor([ 3.5175722 -0.3816409], shape=(2,), dtype=float32)\n",
      "tf.Tensor([ 3.515389 -0.399508], shape=(2,), dtype=float32)\n",
      "tf.Tensor([ 3.5096025  -0.43777335], shape=(2,), dtype=float32)\n",
      "tf.Tensor([ 3.5029533  -0.47936305], shape=(2,), dtype=float32)\n",
      "tf.Tensor([ 3.4971194 -0.5215478], shape=(2,), dtype=float32)\n",
      "tf.Tensor([ 3.4907074 -0.5649714], shape=(2,), dtype=float32)\n",
      "tf.Tensor([ 3.487857   -0.58751327], shape=(2,), dtype=float32)\n",
      "tf.Tensor([ 3.4827309 -0.6327708], shape=(2,), dtype=float32)\n",
      "tf.Tensor([ 3.4781485  -0.68034804], shape=(2,), dtype=float32)\n",
      "tf.Tensor([ 3.4759243  -0.72586477], shape=(2,), dtype=float32)\n",
      "tf.Tensor([ 3.4740367 -0.7734221], shape=(2,), dtype=float32)\n",
      "tf.Tensor([ 3.4734998 -0.7981499], shape=(2,), dtype=float32)\n",
      "tf.Tensor([ 3.4738848  -0.84581673], shape=(2,), dtype=float32)\n",
      "tf.Tensor([ 3.4747438  -0.89145166], shape=(2,), dtype=float32)\n",
      "tf.Tensor([ 3.477767   -0.93875086], shape=(2,), dtype=float32)\n",
      "tf.Tensor([ 3.4797668  -0.98015344], shape=(2,), dtype=float32)\n",
      "tf.Tensor([ 3.4833212 -1.0214713], shape=(2,), dtype=float32)\n",
      "tf.Tensor([ 3.4847422 -1.0414836], shape=(2,), dtype=float32)\n",
      "tf.Tensor([ 3.4874678 -1.0774872], shape=(2,), dtype=float32)\n",
      "tf.Tensor([ 3.4900646 -1.110773 ], shape=(2,), dtype=float32)\n",
      "tf.Tensor([ 3.4918766 -1.1384807], shape=(2,), dtype=float32)\n",
      "tf.Tensor([ 3.490951  -1.1597495], shape=(2,), dtype=float32)\n",
      "tf.Tensor([ 3.4900951 -1.1690607], shape=(2,), dtype=float32)\n",
      "tf.Tensor([ 3.4870443 -1.1852803], shape=(2,), dtype=float32)\n",
      "tf.Tensor([ 3.481561  -1.1939192], shape=(2,), dtype=float32)\n",
      "tf.Tensor([ 3.4732723 -1.1961122], shape=(2,), dtype=float32)\n",
      "tf.Tensor([ 3.461444  -1.1903422], shape=(2,), dtype=float32)\n",
      "tf.Tensor([ 3.4544797 -1.185905 ], shape=(2,), dtype=float32)\n",
      "tf.Tensor([ 3.4378011 -1.1700594], shape=(2,), dtype=float32)\n",
      "tf.Tensor([ 3.4196174 -1.1481148], shape=(2,), dtype=float32)\n",
      "tf.Tensor([ 3.396999  -1.1223718], shape=(2,), dtype=float32)\n",
      "tf.Tensor([ 3.3716187 -1.0901575], shape=(2,), dtype=float32)\n",
      "tf.Tensor([ 3.3581882 -1.0710243], shape=(2,), dtype=float32)\n",
      "tf.Tensor([ 3.327539  -1.0293682], shape=(2,), dtype=float32)\n",
      "tf.Tensor([ 3.2964191 -0.9856093], shape=(2,), dtype=float32)\n",
      "tf.Tensor([ 3.2629988  -0.93490106], shape=(2,), dtype=float32)\n",
      "tf.Tensor([ 3.226739  -0.8797951], shape=(2,), dtype=float32)\n",
      "tf.Tensor([ 3.208179  -0.8518709], shape=(2,), dtype=float32)\n",
      "tf.Tensor([ 3.1716523  -0.79523087], shape=(2,), dtype=float32)\n",
      "tf.Tensor([ 3.1327953  -0.73512095], shape=(2,), dtype=float32)\n",
      "tf.Tensor([ 3.0964847  -0.67735887], shape=(2,), dtype=float32)\n",
      "tf.Tensor([ 3.057615  -0.6150273], shape=(2,), dtype=float32)\n",
      "tf.Tensor([ 3.0396945 -0.5846415], shape=(2,), dtype=float32)\n",
      "tf.Tensor([ 3.0050814 -0.527158 ], shape=(2,), dtype=float32)\n",
      "tf.Tensor([ 2.9702892  -0.46670994], shape=(2,), dtype=float32)\n",
      "tf.Tensor([ 2.9386055  -0.41216144], shape=(2,), dtype=float32)\n",
      "tf.Tensor([ 2.9080772  -0.35869563], shape=(2,), dtype=float32)\n",
      "tf.Tensor([ 2.8936267  -0.33048666], shape=(2,), dtype=float32)\n",
      "tf.Tensor([ 2.8681512  -0.28526822], shape=(2,), dtype=float32)\n",
      "tf.Tensor([ 2.8450265  -0.23991643], shape=(2,), dtype=float32)\n",
      "tf.Tensor([ 2.8255613  -0.20173658], shape=(2,), dtype=float32)\n",
      "tf.Tensor([ 2.8072248  -0.16274461], shape=(2,), dtype=float32)\n",
      "tf.Tensor([ 2.798519   -0.14564183], shape=(2,), dtype=float32)\n",
      "tf.Tensor([ 2.7838159  -0.11280027], shape=(2,), dtype=float32)\n",
      "tf.Tensor([ 2.772034  -0.0843977], shape=(2,), dtype=float32)\n",
      "tf.Tensor([ 2.760453  -0.0576362], shape=(2,), dtype=float32)\n",
      "tf.Tensor([ 2.751945   -0.03576744], shape=(2,), dtype=float32)\n",
      "tf.Tensor([ 2.7482398  -0.02615955], shape=(2,), dtype=float32)\n",
      "tf.Tensor([ 2.7406654  -0.00485519], shape=(2,), dtype=float32)\n",
      "tf.Tensor([2.733653   0.01189071], shape=(2,), dtype=float32)\n",
      "tf.Tensor([2.7264423  0.03075422], shape=(2,), dtype=float32)\n",
      "tf.Tensor([2.7189429  0.04632299], shape=(2,), dtype=float32)\n",
      "tf.Tensor([2.7139988  0.05394321], shape=(2,), dtype=float32)\n",
      "tf.Tensor([2.7044792  0.07173584], shape=(2,), dtype=float32)\n",
      "tf.Tensor([2.6933484  0.08818831], shape=(2,), dtype=float32)\n",
      "tf.Tensor([2.6795924  0.10694591], shape=(2,), dtype=float32)\n",
      "tf.Tensor([2.664011   0.12826982], shape=(2,), dtype=float32)\n",
      "tf.Tensor([2.6545818 0.1393409], shape=(2,), dtype=float32)\n",
      "tf.Tensor([2.6350346  0.16212896], shape=(2,), dtype=float32)\n",
      "tf.Tensor([2.6129606 0.1856364], shape=(2,), dtype=float32)\n",
      "tf.Tensor([2.5873382  0.21235088], shape=(2,), dtype=float32)\n",
      "tf.Tensor([2.5577374  0.24139759], shape=(2,), dtype=float32)\n",
      "tf.Tensor([2.5420198 0.258279 ], shape=(2,), dtype=float32)\n",
      "tf.Tensor([2.50919    0.28963214], shape=(2,), dtype=float32)\n",
      "tf.Tensor([2.4712434 0.3260253], shape=(2,), dtype=float32)\n",
      "tf.Tensor([2.4329393  0.35987192], shape=(2,), dtype=float32)\n",
      "tf.Tensor([2.392589   0.39649272], shape=(2,), dtype=float32)\n",
      "tf.Tensor([2.3704915 0.4154007], shape=(2,), dtype=float32)\n",
      "tf.Tensor([2.3279529  0.45258868], shape=(2,), dtype=float32)\n",
      "tf.Tensor([2.2834642  0.48906198], shape=(2,), dtype=float32)\n",
      "tf.Tensor([2.2360573  0.52712405], shape=(2,), dtype=float32)\n",
      "tf.Tensor([2.1910355 0.56084  ], shape=(2,), dtype=float32)\n",
      "tf.Tensor([2.1437073 0.5959078], shape=(2,), dtype=float32)\n",
      "tf.Tensor([2.1214418 0.6115103], shape=(2,), dtype=float32)\n",
      "tf.Tensor([2.0779324 0.6402252], shape=(2,), dtype=float32)\n",
      "tf.Tensor([2.0335042 0.6669428], shape=(2,), dtype=float32)\n",
      "tf.Tensor([1.9930742 0.690296 ], shape=(2,), dtype=float32)\n",
      "tf.Tensor([1.9550292 0.7087925], shape=(2,), dtype=float32)\n",
      "tf.Tensor([1.9362696  0.71604294], shape=(2,), dtype=float32)\n",
      "tf.Tensor([1.902608  0.7274823], shape=(2,), dtype=float32)\n",
      "tf.Tensor([1.8727458 0.7342957], shape=(2,), dtype=float32)\n",
      "tf.Tensor([1.84567    0.73483527], shape=(2,), dtype=float32)\n",
      "tf.Tensor([1.823596   0.73039293], shape=(2,), dtype=float32)\n",
      "tf.Tensor([1.8142664  0.72604185], shape=(2,), dtype=float32)\n",
      "tf.Tensor([1.7972256 0.7147263], shape=(2,), dtype=float32)\n",
      "tf.Tensor([1.7863063  0.69616103], shape=(2,), dtype=float32)\n",
      "tf.Tensor([1.7789555 0.67163  ], shape=(2,), dtype=float32)\n",
      "tf.Tensor([1.7767615 0.643759 ], shape=(2,), dtype=float32)\n",
      "tf.Tensor([1.777015  0.6276932], shape=(2,), dtype=float32)\n",
      "tf.Tensor([1.7809086 0.5913145], shape=(2,), dtype=float32)\n",
      "tf.Tensor([1.7887044 0.5510806], shape=(2,), dtype=float32)\n",
      "tf.Tensor([1.8008728 0.5063003], shape=(2,), dtype=float32)\n",
      "tf.Tensor([1.8157967  0.45898438], shape=(2,), dtype=float32)\n",
      "tf.Tensor([1.8247573  0.43389547], shape=(2,), dtype=float32)\n",
      "tf.Tensor([1.8452188 0.3792538], shape=(2,), dtype=float32)\n",
      "tf.Tensor([1.8673064  0.32391027], shape=(2,), dtype=float32)\n",
      "tf.Tensor([1.8919666  0.26756036], shape=(2,), dtype=float32)\n",
      "tf.Tensor([1.9196887  0.20536147], shape=(2,), dtype=float32)\n",
      "tf.Tensor([1.932884   0.17502046], shape=(2,), dtype=float32)\n",
      "tf.Tensor([1.9609042  0.11442405], shape=(2,), dtype=float32)\n",
      "tf.Tensor([1.9899741  0.05052197], shape=(2,), dtype=float32)\n",
      "tf.Tensor([ 2.0188274  -0.01247609], shape=(2,), dtype=float32)\n",
      "tf.Tensor([ 2.0475383  -0.07757097], shape=(2,), dtype=float32)\n",
      "tf.Tensor([ 2.0608797  -0.10843509], shape=(2,), dtype=float32)\n",
      "tf.Tensor([ 2.0871773  -0.17017877], shape=(2,), dtype=float32)\n",
      "tf.Tensor([ 2.1123862  -0.23412782], shape=(2,), dtype=float32)\n",
      "tf.Tensor([ 2.1338525  -0.29387462], shape=(2,), dtype=float32)\n",
      "tf.Tensor([ 2.1538653  -0.35396123], shape=(2,), dtype=float32)\n",
      "tf.Tensor([ 2.1629872  -0.38438064], shape=(2,), dtype=float32)\n",
      "tf.Tensor([ 2.1776273  -0.44180685], shape=(2,), dtype=float32)\n"
     ]
    },
    {
     "name": "stdout",
     "output_type": "stream",
     "text": [
      "tf.Tensor([ 2.1885977  -0.49759364], shape=(2,), dtype=float32)\n",
      "tf.Tensor([ 2.1955566  -0.55234104], shape=(2,), dtype=float32)\n",
      "tf.Tensor([ 2.1982455 -0.6050749], shape=(2,), dtype=float32)\n",
      "tf.Tensor([ 2.1978278  -0.62920326], shape=(2,), dtype=float32)\n",
      "tf.Tensor([ 2.1926186 -0.6786666], shape=(2,), dtype=float32)\n",
      "tf.Tensor([ 2.18366   -0.7246959], shape=(2,), dtype=float32)\n",
      "tf.Tensor([ 2.168295   -0.77024657], shape=(2,), dtype=float32)\n",
      "tf.Tensor([ 2.1489391 -0.8114179], shape=(2,), dtype=float32)\n",
      "tf.Tensor([ 2.1367192 -0.8309109], shape=(2,), dtype=float32)\n",
      "tf.Tensor([ 2.1086066 -0.8691425], shape=(2,), dtype=float32)\n",
      "tf.Tensor([ 2.075688   -0.90345544], shape=(2,), dtype=float32)\n",
      "tf.Tensor([ 2.037986   -0.93535995], shape=(2,), dtype=float32)\n",
      "tf.Tensor([ 1.9937925 -0.9662231], shape=(2,), dtype=float32)\n",
      "tf.Tensor([ 1.9707748 -0.9800077], shape=(2,), dtype=float32)\n",
      "tf.Tensor([ 1.9212373 -1.0059383], shape=(2,), dtype=float32)\n",
      "tf.Tensor([ 1.865296  -1.0287066], shape=(2,), dtype=float32)\n",
      "tf.Tensor([ 1.8070848 -1.04988  ], shape=(2,), dtype=float32)\n",
      "tf.Tensor([ 1.7433035 -1.0682381], shape=(2,), dtype=float32)\n",
      "tf.Tensor([ 1.7113593 -1.0761808], shape=(2,), dtype=float32)\n"
     ]
    }
   ],
   "source": [
    "import matplotlib.pyplot as plt\n",
    "%matplotlib inline\n",
    "import matplotlib.animation as animation\n",
    "\n",
    "fig, ax = plt.subplots(1, 1)\n",
    "fig.set_size_inches(5,5)\n",
    "\n",
    "plt.axis('equal')\n",
    "#plt.plot(true_locations[:,0],true_locations[:,1],'x-')\n",
    "\n",
    "times = Xtest.numpy()[:int(len(Xtest.numpy())/3),0]\n",
    "\n",
    "def animate(i):\n",
    "    ax.clear()\n",
    "    #keep = np.where((np.array(obstimes)>i/10+52180) & (np.array(obstimes)<i/10+52180.5))\n",
    "    #for obs,t in zip(observations[keep],obstimes[keep]):\n",
    "    for obs,t in zip(observations,obstimes):\n",
    "        anitime = (i/10+52180)\n",
    "        alpha = 1-3*np.abs(t-anitime)\n",
    "        \n",
    "        if alpha>0:\n",
    "            ax.plot([obs[0],obs[0]+obs[3]*10],[obs[1],obs[1]+obs[4]*10],color='grey',alpha=alpha)\n",
    "            ax.add_patch(plt.Circle([obs[0],obs[1]],0.1,color='red'))\n",
    "    \n",
    "    ax.plot(M.numpy()[stds<0.25,0],M.numpy()[stds<0.25,1])            \n",
    "    ax.set_xlim([-1,10])\n",
    "    ax.set_ylim([-5,5])\n",
    "    \n",
    "    idx = np.argmin(np.abs(times-(i/10+52180)))\n",
    "    pix = M[idx,:]\n",
    "    #ax.add_patch(plt.Circle([pix[0],pix[1]],stds[idx],color='blue'))\n",
    "    ax.add_patch(confidence_ellipse(M[idx,0:2].numpy(),C[idx,:2,:2].numpy(),ax))\n",
    "        \n",
    "ani = animation.FuncAnimation(fig, animate, frames=150,\n",
    "                    interval=100, repeat=False)\n",
    "plt.close()\n",
    "# Save the animation as an animated GIF\n",
    "#ani.save(\"simple_animation.gif\", dpi=900, writer=PillowWriter(fps=0.1))\n",
    "FFwriter = animation.FFMpegWriter(fps=10)\n",
    "ani.save('animation.mp4', writer = FFwriter)"
   ]
  },
  {
   "cell_type": "code",
   "execution_count": 86,
   "id": "33ce74bd",
   "metadata": {},
   "outputs": [],
   "source": [
    "pathi = PathInference(obstimes, observations, kernelwrap(EQ,ls=3.0,scale=50), likenoisescale=0.2, Nind=20)"
   ]
  },
  {
   "cell_type": "code",
   "execution_count": 88,
   "id": "d0c1ecc4",
   "metadata": {},
   "outputs": [
    {
     "name": "stdout",
     "output_type": "stream",
     "text": [
      "0 [13544.404]\n",
      "20 [2729.3748]\n",
      "40 [669.0228]\n",
      "60 [394.4963]\n",
      "80 [327.4015]\n",
      "100 [301.11197]\n",
      "120 [302.43896]\n",
      "140 [299.95453]\n",
      "160 [301.28912]\n",
      "180 [299.29688]\n",
      "200 [299.3854]\n",
      "220 [297.91315]\n",
      "240 [297.9192]\n",
      "260 [297.75943]\n",
      "280 [297.94037]\n",
      "300 [299.36713]\n",
      "320 [297.95013]\n",
      "340 [297.54626]\n",
      "360 [300.65463]\n",
      "380 [303.39334]\n",
      "400 [303.4584]\n",
      "420 [301.524]\n",
      "440 [298.70245]\n",
      "460 [297.0586]\n",
      "480 [301.46786]\n",
      "500 [300.9597]\n",
      "520 [299.68973]\n",
      "540 [300.03345]\n",
      "560 [298.8337]\n",
      "580 [300.5099]\n",
      "600 [302.2058]\n",
      "620 [301.30298]\n",
      "640 [300.2707]\n",
      "660 [299.2481]\n",
      "680 [302.4892]\n"
     ]
    }
   ],
   "source": [
    "pathi.run(700,0.25)"
   ]
  },
  {
   "cell_type": "code",
   "execution_count": 123,
   "id": "375b722a",
   "metadata": {},
   "outputs": [],
   "source": [
    "Xtest = pathi.buildinputmatrix(500)\n",
    "M,C = pathi.getpredictions(Xtest)"
   ]
  },
  {
   "cell_type": "code",
   "execution_count": 124,
   "id": "002d1761",
   "metadata": {},
   "outputs": [
    {
     "data": {
      "image/png": "[encoded data removed]",
      "text/plain": [
       "<Figure size 640x480 with 1 Axes>"
      ]
     },
     "metadata": {},
     "output_type": "display_data"
    }
   ],
   "source": [
    "stds = np.sqrt(np.sum(np.array([np.diag(c) for c in C.numpy()]),1))\n",
    "plt.plot(stds)\n",
    "plt.ylim([0,2])\n",
    "plt.grid()"
   ]
  },
  {
   "cell_type": "code",
   "execution_count": 90,
   "id": "1704fa6f",
   "metadata": {},
   "outputs": [
    {
     "data": {
      "image/png": "[encoded data removed]",
      "text/plain": [
       "<Figure size 640x480 with 1 Axes>"
      ]
     },
     "metadata": {},
     "output_type": "display_data"
    }
   ],
   "source": [
    "import matplotlib.pyplot as plt\n",
    "%matplotlib inline\n",
    "\n",
    "plt.axis('equal')\n",
    "plt.axis('equal')\n",
    "for obs in observations:\n",
    "    plt.plot([obs[0],obs[0]+obs[3]*5],[obs[1],obs[1]+obs[4]*5],color='grey',alpha=0.1)\n",
    "plt.plot(M[:,0],M[:,1])\n",
    "ax = plt.gca()\n",
    "for i,(m,c) in enumerate(zip(M.numpy(),C.numpy())):\n",
    "    std = max(np.sqrt(c[0,0]),np.sqrt(c[1,1]))\n",
    "    if std<0.5:\n",
    "        plt.plot(m[0],m[1],'.k',markersize=5)\n",
    "\n",
    "        if i%5==0:\n",
    "            el = confidence_ellipse(m[:2],c[:2,:2],ax)\n",
    "            ax.add_patch(el)\n",
    "\n",
    "plt.show()"
   ]
  },
  {
   "cell_type": "code",
   "execution_count": 71,
   "id": "92b27c0e",
   "metadata": {},
   "outputs": [
    {
     "data": {
      "text/plain": [
       "10.804457"
      ]
     },
     "execution_count": 71,
     "metadata": {},
     "output_type": "execute_result"
    }
   ],
   "source": [
    "std"
   ]
  },
  {
   "cell_type": "code",
   "execution_count": null,
   "id": "af9b0806",
   "metadata": {},
   "outputs": [],
   "source": []
  }
 ],
 "metadata": {
  "kernelspec": {
   "display_name": "Python 3 (ipykernel)",
   "language": "python",
   "name": "python3"
  },
  "language_info": {
   "codemirror_mode": {
    "name": "ipython",
    "version": 3
   },
   "file_extension": ".py",
   "mimetype": "text/x-python",
   "name": "python",
   "nbconvert_exporter": "python",
   "pygments_lexer": "ipython3",
   "version": "3.10.9"
  }
 },
 "nbformat": 4,
 "nbformat_minor": 5
}
